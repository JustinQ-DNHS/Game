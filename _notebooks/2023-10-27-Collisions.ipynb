{
 "cells": [
  {
   "cell_type": "raw",
   "metadata": {},
   "source": [
    "---\n",
    "layout: post\n",
    "title: Collisions\n",
    "toc: true\n",
    "comments: false\n",
    "type: hacks\n",
    "courses: { compsci: {week: 7} }\n",
    "---"
   ]
  },
  {
   "cell_type": "markdown",
   "metadata": {},
   "source": [
    "### Plan\n",
    "Collisions is how we will detect interaction between enemies and obstacles with our player. We plan to do this by using axis-aligned bounding boxes (AABBs). It's a mathematical way of detecting collisions between multiple 2d objects. It's typically used for rectangle and square hitboxes, perfect for what we are trying to accomplish. While our sprites aren't rectangular, as you'll know from the hitbox blog, they use rectangles for collision detection."
   ]
  },
  {
   "cell_type": "markdown",
   "metadata": {},
   "source": [
    "### Logic behind AABB\n",
    "In order to understand collision detection (AABB), let's take a look at the code below (this is part of the code we used for own game)."
   ]
  },
  {
   "cell_type": "code",
   "execution_count": null,
   "metadata": {
    "vscode": {
     "languageId": "javascript"
    }
   },
   "outputs": [],
   "source": [
    " //Checks for collision between the player & enemy\n",
    " function checkCollisions(playerObj, enemyObj) {\n",
    "    if (\n",
    "        playerObj.hitbox.x < enemyObj.hitbox.x + enemyObj.hitbox.width &&\n",
    "        playerObj.hitbox.x + playerObj.hitbox.width > enemyObj.hitbox.x &&\n",
    "        playerObj.hitbox.y < enemyObj.hitbox.y + enemyObj.hitbox.height &&\n",
    "        playerObj.hitbox.y + playerObj.hitbox.height > enemyObj.hitbox.y\n",
    "    ) {\n",
    "        //If there is collision, log \"Collision\"\n",
    "        console.log(\"Collision\");\n",
    "    }\n",
    "}\n"
   ]
  },
  {
   "cell_type": "markdown",
   "metadata": {},
   "source": [
    "The first thing to note is how the function checkCollisions takes into two parameters. The player object and the enemy object. Now, we compare the x and y values of the player and enemy hitboxes to see if there is any overlap between. If all 4 conditions are meant, then there is an overlap between the two objects. If in fact there is collision between the two sprites, then log Collision in the console. This can be replaced with ore meaningful code, such as deploying a Game Over screen or causing the player to lose health.\n",
    "\n",
    "However, how as mentioned above, the code checks the x and y values of the player of the enemy to check for overlap. How exactly this works is a bit more complex. In a nutshell, each hitbox (playerObj.hitbox.x, enemyObj.hitbox, etc.) represents a part of the hitbox. \n",
    "\n",
    "- playerObj.hitbox.x = **left side of player hitbox**\n",
    "- playerObj.hitbox.x + playerObj.hitbox.width = **right side of player hitbox**\n",
    "- playerObj.hitbox.y = **top side of player hitbox**\n",
    "- playerObj.hitbox.y + playerObj.hitbox.height = **bottom side of playerhitbox**\n",
    "\n",
    "With each side defined, we can compare the two shape's sides to see if there are colliding. Further information into this can be found [here](https://stackoverflow.com/questions/22512319/what-is-aabb-collision-detection#22512393)."
   ]
  },
  {
   "cell_type": "markdown",
   "metadata": {},
   "source": [
    "But heading back to the code, all we would have to do at this point is loop checkCollisions continously, so the game would constantly be checking if there are collisions."
   ]
  },
  {
   "cell_type": "code",
   "execution_count": null,
   "metadata": {
    "vscode": {
     "languageId": "javascript"
    }
   },
   "outputs": [],
   "source": [
    "function gameLoop() {\n",
    "  //Checks for collisions between the player and enemy\n",
    "  checkCollisions(playerObj, enemyObj);\n",
    "}"
   ]
  }
 ],
 "metadata": {
  "language_info": {
   "name": "python"
  }
 },
 "nbformat": 4,
 "nbformat_minor": 2
}
