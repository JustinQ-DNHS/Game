{
 "cells": [
  {
   "cell_type": "raw",
   "metadata": {},
   "source": [
    "---\n",
    "layout: post\n",
    "title: Score Feature\n",
    "toc: true\n",
    "comments: false\n",
    "type: hacks\n",
    "courses: { compsci: {week: 8} }\n",
    "---"
   ]
  },
  {
   "cell_type": "markdown",
   "metadata": {},
   "source": [
    "### Usage of a Score\n",
    "Scores are powerful mechanisms in which a game can have to enhance user experience. Not only do they serve as a tool to increase engagement, but they serve as a way in which a developer can easily increase the difficulty throughout the game based off the current score of the user. Enemies can be made faster, styling of the canvas can change, audio plays, etc. All of this is made readily avaliable thanks to adding a score function to one's game."
   ]
  },
  {
   "cell_type": "markdown",
   "metadata": {},
   "source": [
    "### Implementation\n",
    "Let's take a look at the basic setup for setting up a score in JavaScript. We will be focusd purely on the javascript part, not the styling.\n",
    "\n",
    "```\n",
    "let score = 0;\n",
    "\n",
    "if (certain event happens) {\n",
    "  score++;\n",
    "}\n",
    "```\n",
    "\n",
    "This, in its most innate form, is how scoring works for JavaScript games. First you have to define the variable with a starting value of 0, and once a certain events happens, such as killing or escaping the enemy, then add a specified amount to score, and in this case it would be 1 point.\n",
    "\n",
    "Now that we have a basic understanding of how scoring works, let's take a look at a more complex example, involing styling, OOP, and functions."
   ]
  },
  {
   "cell_type": "code",
   "execution_count": null,
   "metadata": {
    "vscode": {
     "languageId": "javascript"
    }
   },
   "outputs": [],
   "source": [
    "// Score.js\n",
    "\n",
    "let score = 0;\n",
    "\n",
    "//Adds to Score & Updates Display\n",
    "function incrementScore() {\n",
    "    score += 5;\n",
    "    updateScoreDisplay(); // Call the function to update the score display\n",
    "}\n",
    "\n",
    "//Returns the Score\n",
    "function getScore() {\n",
    "    return score;\n",
    "}\n",
    "\n",
    "//Creates Score Display\n",
    "function createScoreDisplay() {\n",
    "    const scoreDisplay = document.createElement('div'); //Creates Element for Score\n",
    "    scoreDisplay.id = 'scoreDisplay'; //Id\n",
    "    scoreDisplay.textContent = `Score: ${score}`; //Text format\n",
    "    document.body.appendChild(scoreDisplay); //Adds score to webpage\n",
    "    applyScoreStyles(scoreDisplay); // Apply styles to the score display\n",
    "}\n",
    "\n",
    "//Updates Score Display\n",
    "function updateScoreDisplay() {\n",
    "    const scoreDisplay = document.getElementById('scoreDisplay'); //Gets the scoreDisplay with the ID\n",
    "    if (scoreDisplay) {\n",
    "        scoreDisplay.textContent = `Score: ${getScore()}`; //Updates the score\n",
    "    }\n",
    "}\n",
    "\n",
    "//Styling for Score Display\n",
    "function applyScoreStyles(element) {\n",
    "    element.style.position = 'absolute';\n",
    "    element.style.top = '10px';\n",
    "    element.style.left = '10px';\n",
    "    element.style.fontSize = '20px';\n",
    "    element.style.color = 'white';\n",
    "}\n",
    "\n",
    "// Initialize the score display when the page loads\n",
    "window.addEventListener('load', createScoreDisplay);\n",
    "\n",
    "//Exports Functions\n",
    "export { incrementScore, getScore, score };"
   ]
  },
  {
   "cell_type": "markdown",
   "metadata": {},
   "source": [
    "Let's break down the code.\n",
    "1. Score is defined as a variable\n",
    "2. 5 is added to the score when incrementScore() runs\n",
    "3. getScore() retrieves the score\n",
    "4. createScoreDisplay() creates the display in which will show the score\n",
    "5. updateScoreDisplay styles the display\n",
    "6. There is an event listener to create the score on initialization\n",
    "7. 3 parts of the code are exported to be used eslwhere in the code"
   ]
  },
  {
   "cell_type": "markdown",
   "metadata": {},
   "source": [
    "That's a lot of bullets but in summary, we create a display for the score to be easily viewed by the user, we have the ability to add to that score, and we export certain functions, which we be used elsewhere, both for special and events and incrementation of the score. Let's see how this is true for the enemy."
   ]
  },
  {
   "cell_type": "code",
   "execution_count": null,
   "metadata": {
    "vscode": {
     "languageId": "javascript"
    }
   },
   "outputs": [],
   "source": [
    "else if (this.domainOffset > this.domain * 2) {\n",
    "  this.domainOffset = 0; // reset the counter back to 0\n",
    "  incrementScore(); //add 5 to the score\n",
    "//If Enemy reaches right side, add 5 to the score\n",
    "} else if (this.domainOffset === this.domain) {\n",
    "  incrementScore();\n",
    "}\n",
    "\n",
    "if(score===10 && this.enemySpeed===4) {\n",
    "  this.enemySpeed += 4;\n",
    "  console.log(this.enemySpeed)\n",
    "};"
   ]
  },
  {
   "cell_type": "markdown",
   "metadata": {},
   "source": [
    "You can see how the enemy uses incrementScore() & score. Everytime the player goes to one side, 5 is added to score, and if the score is 10, the speed of the enemy is permanetly increased by 4. This is how a score can be added onto and how the score be used for special events. In the heart of both those things are **if statements**."
   ]
  },
  {
   "cell_type": "markdown",
   "metadata": {},
   "source": [
    "### Conclusion\n",
    "Add a score feature to one's game allow for creative ingenutiy to shine, giving the developer a new isle of control in the efforts to creating ag reat game. While, we were pressed on time to continue to add on to our score feature, it can already been seen how easily it can be used to add many different features to the game."
   ]
  }
 ],
 "metadata": {
  "language_info": {
   "name": "python"
  }
 },
 "nbformat": 4,
 "nbformat_minor": 2
}
